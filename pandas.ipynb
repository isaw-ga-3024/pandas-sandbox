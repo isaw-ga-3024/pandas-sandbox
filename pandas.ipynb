{
 "cells": [
  {
   "cell_type": "markdown",
   "metadata": {},
   "source": [
    "# Startup"
   ]
  },
  {
   "cell_type": "code",
   "execution_count": null,
   "metadata": {
    "collapsed": false
   },
   "outputs": [],
   "source": [
    "# let python know you want to use the pandas library\n",
    "import pandas as pd\n",
    "\n",
    "# load the csv directly from github\n",
    "#ramphs = pd.read_csv(\"https://raw.githubusercontent.com/sfsheath/roman-amphitheaters/master/roman-amphitheaters.csv\")\n",
    "\n",
    "ramphs = pd.read_csv(\"/Users/sfsh/Documents/roman-amphitheaters/roman-amphitheaters.csv\")\n",
    "\n",
    "# confirm that all is well by displaying first two rows\n",
    "ramphs.head(2)\n"
   ]
  },
  {
   "cell_type": "markdown",
   "metadata": {},
   "source": [
    "# Simple Group By"
   ]
  },
  {
   "cell_type": "code",
   "execution_count": null,
   "metadata": {
    "collapsed": false
   },
   "outputs": [],
   "source": [
    "# very simple group by then sum numeric columns. It makes no sense to sum the latitude and longitude but nor is any harm done\n",
    "modcountries = ramphs.groupby('modcountry').sum()\n",
    "\n",
    "# output the results into this notebook\n",
    "modcountries\n"
   ]
  },
  {
   "cell_type": "markdown",
   "metadata": {},
   "source": [
    "# Write to CSV"
   ]
  },
  {
   "cell_type": "code",
   "execution_count": null,
   "metadata": {
    "collapsed": true
   },
   "outputs": [],
   "source": [
    "# You can do this in one line\n",
    "\n",
    "ramphs.groupby('modcountry').sum().to_csv('modcountries01.csv')\n",
    "\n",
    "# Or you can do it as a continuation of the above cells\n",
    "\n",
    "modcountries.to_csv('modcountries02.csv')\n",
    "\n",
    "\n",
    "# The above two lines of python code should produce the same output, but in two differently named files.\n",
    "# Look for the files on your computer.\n",
    "\n",
    "# At this point you may have enough to go forth and make some charts in raw or plotly.\n",
    "# But perhaps you want to go further with pandas. Some ideas..."
   ]
  },
  {
   "cell_type": "markdown",
   "metadata": {},
   "source": [
    "# Towards further steps"
   ]
  },
  {
   "cell_type": "code",
   "execution_count": null,
   "metadata": {
    "collapsed": false
   },
   "outputs": [],
   "source": [
    "# The following line will print True or False depending on whether or not the 'chronogrp' column\n",
    "# contains the characters \"Republican\"\n",
    "print(ramphs['chronogrp'].str.contains('Republican'))\n"
   ]
  },
  {
   "cell_type": "code",
   "execution_count": null,
   "metadata": {
    "collapsed": false
   },
   "outputs": [],
   "source": [
    "# the next line will make a new column in ramphs and fill it with the output of .contains(\"Repuublican\") as seen above\n",
    "\n",
    "ramphs['republican'] = ramphs['chronogrp'].str.contains('Republican')\n",
    "\n",
    "# we can group by and sum on the 'republican' column\n",
    "\n",
    "ramphs.groupby('republican').sum()\n",
    "\n",
    "# What percentage of amphitheater seats were built after the republican era? That is before 31 BC\n",
    "# Though do remember that I have a \"Julius Caesar\" chronogrp. That's technically \"Republican\".\n",
    "# Even worse... I stupidly also have \"Caesarean\" chronogrp. I need to fix that...\n",
    "# Dealing with such issues will be a topic next week.\n",
    "# And yes, we don't always know amphitheater capacity and when we do, it's actually an estimate subject to debate...\n",
    "\n",
    "# IMPORTANT: You can now write this file to a csv and make plots in raw or plotly"
   ]
  },
  {
   "cell_type": "markdown",
   "metadata": {},
   "source": [
    "# How about this?"
   ]
  },
  {
   "cell_type": "code",
   "execution_count": null,
   "metadata": {
    "collapsed": false
   },
   "outputs": [],
   "source": [
    "# There are many, many interesting directions to take such exploratory analysis. Here's one\n",
    "\n",
    "# execute the following line to group by modcountry, then by chronogrp, then to sum.\n",
    "ramphs.groupby((\"modcountry\",\"chronogrp\")).sum()\n"
   ]
  },
  {
   "cell_type": "code",
   "execution_count": null,
   "metadata": {
    "collapsed": true
   },
   "outputs": [],
   "source": [
    "# when you write this to a csv, all cells are usefully filled in. Run that through raw or plotly and see what you can do.\n",
    "# \"Circle Packing\" in raw might work well. Though perhaps try reversing \"modcountry\" and \"chronogrp\".\n",
    "ramphs.groupby((\"modcountry\",\"chronogrp\")).sum().to_csv(\"two-level-sum.csv\")\n"
   ]
  },
  {
   "cell_type": "code",
   "execution_count": null,
   "metadata": {
    "collapsed": false
   },
   "outputs": [],
   "source": [
    "import sqlite3\n",
    "conn = sqlite3.connect(':memory:')\n",
    "ramphs.to_sql('ramphs',conn,if_exists=\"replace\")"
   ]
  },
  {
   "cell_type": "code",
   "execution_count": null,
   "metadata": {
    "collapsed": false
   },
   "outputs": [],
   "source": [
    "for row in conn.execute(\"SELECT chronogrp FROM ramphs WHERE chronogrp = 'syracuseAmphitheater'\"):\n",
    "    print(row)\n",
    "\n",
    "for row in conn.execute(\"SELECT id,chronogrp FROM ramphs\"):\n",
    "    print(row)"
   ]
  },
  {
   "cell_type": "code",
   "execution_count": null,
   "metadata": {
    "collapsed": false
   },
   "outputs": [],
   "source": [
    "chronogrps = pd.read_csv(\"/Users/sfsh/Documents/roman-amphitheaters/chronogrps.csv\")\n",
    "chronogrps.head(2)\n",
    "chronogrps.to_sql('chronogrps', conn, if_exists=\"replace\")\n",
    "\n",
    "for row in conn.execute(\"\"\"SELECT id,chronogrps.start \n",
    "FROM ramphs,chronogrps\n",
    "WHERE ramphs.chronogrp = chronogrps.chronogrp\n",
    "ORDER BY chronogrps.start\"\"\"):\n",
    "    print(row)\n",
    "    \n",
    "pd.read_sql(\"\"\"SELECT id,chronogrps.start \n",
    "FROM ramphs,chronogrps\n",
    "WHERE ramphs.chronogrp = chronogrps.chronogrp\n",
    "ORDER BY chronogrps.start\"\"\", conn)\n",
    "\n",
    "pd.read_sql(\"\"\"SELECT id,chronogrps.start \n",
    "FROM ramphs LEFT OUTER JOIN chronogrps \n",
    "ON ramphs.chronogrp = chronogrps.chronogrp\n",
    "ORDER BY chronogrps.start\"\"\", conn)"
   ]
  }
 ],
 "metadata": {
  "kernelspec": {
   "display_name": "Python 3",
   "language": "python",
   "name": "python3"
  },
  "language_info": {
   "codemirror_mode": {
    "name": "ipython",
    "version": 3
   },
   "file_extension": ".py",
   "mimetype": "text/x-python",
   "name": "python",
   "nbconvert_exporter": "python",
   "pygments_lexer": "ipython3",
   "version": "3.5.2"
  }
 },
 "nbformat": 4,
 "nbformat_minor": 1
}

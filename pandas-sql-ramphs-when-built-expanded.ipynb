{
 "cells": [
  {
   "cell_type": "markdown",
   "metadata": {},
   "source": [
    "# Introduction"
   ]
  },
  {
   "cell_type": "markdown",
   "metadata": {},
   "source": [
    "This notebook is adapted from a class assignment in NYU's Institute for the Study of the Ancient World \"Introduction to Digital Humanities\" Fall 2016 Seminar. It is a demonstration of the combination of public data sources, the combination of python pandas and SQL manipulations, and of the potential and limits of visualization in the pursuit of digitally informed historical interpretation."
   ]
  },
  {
   "cell_type": "markdown",
   "metadata": {},
   "source": [
    "## Load data"
   ]
  },
  {
   "cell_type": "markdown",
   "metadata": {},
   "source": [
    "Drudgery w/o interest beyond the fact that data is coming from multiple sources."
   ]
  },
  {
   "cell_type": "code",
   "execution_count": null,
   "metadata": {
    "collapsed": false
   },
   "outputs": [],
   "source": [
    "import gzip            # can uncompress gzipped files, useful for accessing the pleiades data\n",
    "import io              # useful routines for input/output\n",
    "import pandas as pd    # for working with \"rows/columns\" oriented data\n",
    "import sqlite3         # an SQL database\n",
    "import urllib.request  # for loading documents using http\n",
    "\n",
    "%matplotlib inline\n",
    "\n",
    "import matplotlib # plotting\n",
    "import matplotlib.pyplot as plt\n",
    "\n",
    "# load csv files\n",
    "ramphs = pd.read_csv(\"https://raw.githubusercontent.com/sfsheath/roman-amphitheaters/master/roman-amphitheaters.csv\")\n",
    "chronogrps = pd.read_csv(\"https://raw.githubusercontent.com/sfsheath/roman-amphitheaters/master/chronogrps.csv\")\n",
    "\n",
    "# load gzipped PLEIADES. key is \"io.BytesIO(gzip.decompress(response.read())\", which \n",
    "# delivers (so to speak) an uncompressed csv to 'pd.read_csv'.\n",
    "response = urllib.request.urlopen(\"http://atlantides.org/downloads/pleiades/dumps/pleiades-places-latest.csv.gz\")\n",
    "pleiades = pd.read_csv(io.BytesIO(gzip.decompress(response.read())))\n",
    "\n",
    "# One note: because it takes a long time to load the pleiades data,\n",
    "# avoid running this cell again unless necessary\n"
   ]
  },
  {
   "cell_type": "code",
   "execution_count": null,
   "metadata": {
    "collapsed": false
   },
   "outputs": [],
   "source": [
    "print(\"Number of pleiades geographic entites loaded: %s\" % len(pleiades))\n",
    "print(\"Number of roman amphitheater records loaded loaded: %s\" % len(ramphs))"
   ]
  },
  {
   "cell_type": "code",
   "execution_count": null,
   "metadata": {
    "collapsed": true
   },
   "outputs": [],
   "source": [
    "# The conn variable is a 'database connection'\n",
    "# we are making this database in memory, meaning it won't be saved\n",
    "conn = sqlite3.connect(':memory:')"
   ]
  },
  {
   "cell_type": "code",
   "execution_count": null,
   "metadata": {
    "collapsed": false
   },
   "outputs": [],
   "source": [
    "# first load of pandas DataFrames into SQL database\n",
    "ramphs.to_sql('ramphs',conn,if_exists=\"replace\")\n",
    "chronogrps.to_sql('chronogrps', conn, if_exists=\"replace\")\n",
    "pleiades.to_sql('pleiades', conn, if_exists =\"replace\")"
   ]
  },
  {
   "cell_type": "markdown",
   "metadata": {},
   "source": [
    "# Plot Mean difference in Amphitheater Construction by Modern Country"
   ]
  },
  {
   "cell_type": "markdown",
   "metadata": {},
   "source": [
    "## Use SQL"
   ]
  },
  {
   "cell_type": "code",
   "execution_count": null,
   "metadata": {
    "collapsed": false
   },
   "outputs": [],
   "source": [
    "# make pleiades id values compatible and reload ramphs into sql table\n",
    "ramphs['pleiadesid'] = ramphs['pleiades'].str.replace('http://pleiades.stoa.org/places/','')\n",
    "ramphs.to_sql('ramphs', conn, if_exists='replace')\n",
    "\n",
    "# SQL SELECT statement to bring data together\n",
    "combined = pd.read_sql(\"\"\"SELECT ramphs.id,\n",
    "                                 ramphs.chronogrp,\n",
    "                                 ramphs.modcountry,\n",
    "                                 pleiades.minDate as foundation_year,\n",
    "                                 chronogrps.start as construction_year\n",
    "  FROM ramphs, chronogrps, pleiades\n",
    "  WHERE (ramphs.chronogrp = chronogrps.chronogrp) and (ramphs.pleiadesid = pleiades.id)\n",
    "  ORDER BY chronogrps.start\"\"\",conn)\n",
    "\n",
    "combined.head(2)"
   ]
  },
  {
   "cell_type": "markdown",
   "metadata": {},
   "source": [
    "## Use Python, specificlly the Pandas library"
   ]
  },
  {
   "cell_type": "code",
   "execution_count": null,
   "metadata": {
    "collapsed": false
   },
   "outputs": [],
   "source": [
    "# Calculate difference from start of settlement to construction of amphitheater\n",
    "combined['difference'] = combined['construction_year'] - combined['foundation_year']\n",
    "\n",
    "combined.head(2)"
   ]
  },
  {
   "cell_type": "code",
   "execution_count": null,
   "metadata": {
    "collapsed": false
   },
   "outputs": [],
   "source": [
    "# Group that info into mean by country\n",
    "grouped = combined.groupby('modcountry')['difference'].mean()\n",
    "\n",
    "grouped.head(2)"
   ]
  },
  {
   "cell_type": "markdown",
   "metadata": {},
   "source": [
    "## Visualize"
   ]
  },
  {
   "cell_type": "code",
   "execution_count": null,
   "metadata": {
    "collapsed": false
   },
   "outputs": [],
   "source": [
    "# Plot after sorting by mean difference\n",
    "grouped.sort_values().plot.bar()\n",
    "\n",
    "# The resulting chart shows the mean difference between earliest date that Pleiades \n",
    "# provides for settlements and amphitheater construction by modern country. As always, such a \n",
    "# visualization does not provide \"an answer\". It is firstly influenced by the\n",
    "# granularity of the amphitheater and pleiades data, both of which have a simplified\n",
    "# chronological model. The visualization itself obscures underlying aspects such as the\n",
    "# very much greater number of amphitheaters in Italy as opposed to Syria. But within\n",
    "# the context of a broader understanding of long-term historical trends in the Mediterranean\n",
    "# World and Europe, there are correlations to be made with the history of large-scale\n",
    "# urbanization and settlement continuity. There are also oddities: Israel stands out so that an\n",
    "# obvious next step is to explore individual amphitheater-city pairings within each group."
   ]
  }
 ],
 "metadata": {
  "kernelspec": {
   "display_name": "Python 3",
   "language": "python",
   "name": "python3"
  },
  "language_info": {
   "codemirror_mode": {
    "name": "ipython",
    "version": 3
   },
   "file_extension": ".py",
   "mimetype": "text/x-python",
   "name": "python",
   "nbconvert_exporter": "python",
   "pygments_lexer": "ipython3",
   "version": "3.5.2"
  }
 },
 "nbformat": 4,
 "nbformat_minor": 1
}

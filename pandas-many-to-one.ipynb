{
 "cells": [
  {
   "cell_type": "markdown",
   "metadata": {},
   "source": [
    "# Getting things going and highlighting \"the problem\""
   ]
  },
  {
   "cell_type": "code",
   "execution_count": null,
   "metadata": {
    "collapsed": false
   },
   "outputs": [],
   "source": [
    "import pandas as pd\n",
    "import sqlite3\n",
    "\n",
    "ramphs = pd.read_csv(\"https://raw.githubusercontent.com/sfsheath/roman-amphitheaters/master/roman-amphitheaters.csv\")\n",
    "chronogrps = pd.read_csv(\"https://raw.githubusercontent.com/sfsheath/roman-amphitheaters/master/chronogrps.csv\")\n",
    "\n",
    "# I put an uncompressed version of pleiades-places into my folder on the github repo\n",
    "pleiades = pd.read_csv(\"https://raw.githubusercontent.com/isaw-ga-3024/isaw-ga-3024.github.io/master/heath-sebastian/pleiades-places.csv\")\n",
    "\n",
    "# One note: because it takes a long time to load the pleiades data,\n",
    "# avoid running this cell again unless necessary\n",
    "# As I look back on class, perhaps this is why Mikael reported \n",
    "# that his replace was taking a long time. Was the data reloading across the internet?"
   ]
  },
  {
   "cell_type": "code",
   "execution_count": null,
   "metadata": {
    "collapsed": false
   },
   "outputs": [],
   "source": [
    "# ramphs, chronogrps, and pleiades are now pandas DataFrames\n",
    "\n",
    "print(type(ramphs))\n",
    "print(type(chronogrps))\n",
    "print(type(pleiades))\n",
    "\n",
    "# Again, these are pandas DataFrames, not sql tables!"
   ]
  },
  {
   "cell_type": "code",
   "execution_count": null,
   "metadata": {
    "collapsed": false
   },
   "outputs": [],
   "source": [
    "# OK, to our problem in class.\n",
    "\n",
    "# inspect the values in both DataFrmes\n",
    "print(ramphs['pleiades'].head(2))\n",
    "print(pleiades['id'].head(2))\n",
    "\n",
    "# They're different. Bummer."
   ]
  },
  {
   "cell_type": "markdown",
   "metadata": {},
   "source": [
    "# A tiny bit of string manipulation"
   ]
  },
  {
   "cell_type": "code",
   "execution_count": null,
   "metadata": {
    "collapsed": false
   },
   "outputs": [],
   "source": [
    "tmp = \"Hello World\"\n",
    "tmp.replace(\"Hello\", \"\") # note that this doesn't remove the space"
   ]
  },
  {
   "cell_type": "markdown",
   "metadata": {},
   "source": [
    "# A little bit of pandas dataframe manipulation"
   ]
  },
  {
   "cell_type": "code",
   "execution_count": null,
   "metadata": {
    "collapsed": false
   },
   "outputs": [],
   "source": [
    "# first\n",
    "ramphs.head(2)"
   ]
  },
  {
   "cell_type": "code",
   "execution_count": null,
   "metadata": {
    "collapsed": false
   },
   "outputs": [],
   "source": [
    "# then\n",
    "ramphs['pleiades'].head(2)\n",
    "\n",
    "# so it's easy to output either all columns, or just a selection.\n",
    "# And it's likely that your notebook is trying to nicely format the output of ramphs.head(2)."
   ]
  },
  {
   "cell_type": "code",
   "execution_count": null,
   "metadata": {
    "collapsed": false
   },
   "outputs": [],
   "source": [
    "# it's easy to create new columns\n",
    "ramphs['new'] = \"test\"\n",
    "ramphs['new'].head(5)\n",
    "\n",
    "# And look!!!! Very important to note that pandas will automatically assign \"test\" to all rows.\n",
    "# That's one of its great powers."
   ]
  },
  {
   "cell_type": "code",
   "execution_count": null,
   "metadata": {
    "collapsed": false
   },
   "outputs": [],
   "source": [
    "# combining pandas and string manipulation\n",
    "ramphs['new'].str.replace(\"e\",\"\").head(5) # do note the \".str\" before \".replace\"\n",
    "\n",
    "# Again, pandas calculates result for all rows"
   ]
  },
  {
   "cell_type": "code",
   "execution_count": null,
   "metadata": {
    "collapsed": false
   },
   "outputs": [],
   "source": [
    "# here's a useful construct, though dangerous in that \n",
    "# it changes data (a concern some of you raised in class)\n",
    "\n",
    "\n",
    "ramphs['new'] = ramphs['new'].str.replace(\"t\",\"\")\n",
    "ramphs['new'].head(5)"
   ]
  },
  {
   "cell_type": "markdown",
   "metadata": {},
   "source": [
    "# Review of adding tables to an sql database (to keep our terminology straight)"
   ]
  },
  {
   "cell_type": "code",
   "execution_count": null,
   "metadata": {
    "collapsed": true
   },
   "outputs": [],
   "source": [
    "# The conn variable is a 'database connection'\n",
    "# we are making this database in memory, meaning it won't be saved\n",
    "conn = sqlite3.connect(':memory:')\n",
    "\n",
    "# as convenience, I've put the above in a separate cell. You may not need to run it again.\n"
   ]
  },
  {
   "cell_type": "code",
   "execution_count": null,
   "metadata": {
    "collapsed": true
   },
   "outputs": [],
   "source": [
    "# the following two lines create sql tables from pandas DataFrames\n",
    "ramphs.to_sql('ramphs',conn,if_exists=\"replace\")\n",
    "chronogrps.to_sql('chronogrps', conn, if_exists=\"replace\")\n",
    "\n",
    "# copy-paste, then edit one of the the above lines to make a pleiades table\n"
   ]
  },
  {
   "cell_type": "code",
   "execution_count": null,
   "metadata": {
    "collapsed": false
   },
   "outputs": [],
   "source": [
    "# let's test that we have sql tables\n",
    "pd.read_sql(\"\"\"SELECT id,pleiades FROM RAMPHS WHERE capacity > 40000\"\"\",conn)\n",
    "\n",
    "# but that only confirms all is well working for the ramphs table.\n",
    "# Good to test others as well."
   ]
  },
  {
   "cell_type": "code",
   "execution_count": null,
   "metadata": {
    "collapsed": false
   },
   "outputs": [],
   "source": [
    "# a reminder\n",
    "pd.read_sql(\"\"\"PRAGMA table_info(pleiades)\"\"\",conn)\n",
    "# will display the columns in the pleiades table (assuming you called it 'pleiades')\n",
    "# look at those columns, which ones have 'chronological' information"
   ]
  },
  {
   "cell_type": "markdown",
   "metadata": {},
   "source": [
    "# More mixing of pandas and sql"
   ]
  },
  {
   "cell_type": "code",
   "execution_count": null,
   "metadata": {
    "collapsed": false
   },
   "outputs": [],
   "source": [
    "# worth noting that the result of pd.read_sql statement is a pandas DataFrame\n",
    "type(pd.read_sql(\"\"\"SELECT id FROM ramphs WHERE capacity > 20000\"\"\",conn))\n",
    "\n",
    "# this means you can use pandas .groupby on it. This is familiar from last week\n",
    "pd.read_sql(\"\"\"SELECT modcountry,capacity FROM ramphs\"\"\",conn).groupby('modcountry').count()\n"
   ]
  },
  {
   "cell_type": "code",
   "execution_count": null,
   "metadata": {
    "collapsed": false
   },
   "outputs": [],
   "source": [
    "# You now have all the piecces to move towards completing and going beyond\n",
    "# the task I set in class. The task was:\n",
    "\n",
    "# \"For each amphitheater with a Pleiades ID,\n",
    "# list that ID's ancient name(s) and chronological information\n",
    "# First step... what are the steps?\"\n",
    "\n",
    "# At a minimum, write an SQL SELECT query that lists amphitheater IDs that have\n",
    "# Pleiades identifiers along with the chronological information that pleiades records\n",
    "\n",
    "# MORE INTERESTING AND HARDER: Write an SQL SELECT query that also lists the start column\n",
    "# from the chronogrps table.\n",
    "# So four columns at least: ramphs.id, chronogrps.start, pleiades.minDate, pleiades.maxDate\n",
    "\n",
    "# once you do this it's easy to imagine a visualization of the difference between the founding\n",
    "# of a city as indicated by pleiades and the construction of its amphitheater.\n",
    "# A histogram of this would be nice. I'd calculate the difference using panda.\n",
    "# (Or rather, that's how I did it.)\n",
    "\n",
    "# Or think of some other manipulation that goes a step beyond the \"at a minumum\" query.\n",
    "\n",
    "\n",
    "# Finally, as you ponder how to do the above, think about the conceptual range of DH as \n",
    "# found in this week's readings and as experienced while manipulating data in this\n",
    "# ipython notebook. It's all DH and we love it all. How can theory and practice fit together?\n",
    "# What other readings we've been assigned are relevant. This is just fodder for conversation."
   ]
  },
  {
   "cell_type": "markdown",
   "metadata": {},
   "source": [
    "# What if I don't accept the assignment?"
   ]
  },
  {
   "cell_type": "code",
   "execution_count": null,
   "metadata": {
    "collapsed": true
   },
   "outputs": [],
   "source": [
    "# That's OK. You can always use your own data or data you download. But you need to turn in\n",
    "# an iPython notebook that demonstrates skills of approximately the same level of difficulty\n",
    "# as what is above. At a minimum: a many-to-one or one-to-many relationship that is queried\n",
    "# via SQL and then used to say something minimally interesting. The usual \"go for it\" applies."
   ]
  }
 ],
 "metadata": {
  "kernelspec": {
   "display_name": "Python 3",
   "language": "python",
   "name": "python3"
  },
  "language_info": {
   "codemirror_mode": {
    "name": "ipython",
    "version": 3
   },
   "file_extension": ".py",
   "mimetype": "text/x-python",
   "name": "python",
   "nbconvert_exporter": "python",
   "pygments_lexer": "ipython3",
   "version": "3.5.2"
  }
 },
 "nbformat": 4,
 "nbformat_minor": 1
}

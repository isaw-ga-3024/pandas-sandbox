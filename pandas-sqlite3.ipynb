{
 "cells": [
  {
   "cell_type": "code",
   "execution_count": null,
   "metadata": {
    "collapsed": true
   },
   "outputs": [],
   "source": [
    "import pandas as pd\n",
    "import sqlite3\n",
    "\n",
    "pd.set_option('display.max_rows', 300)\n"
   ]
  },
  {
   "cell_type": "code",
   "execution_count": null,
   "metadata": {
    "collapsed": false
   },
   "outputs": [],
   "source": [
    "# load the csv directly from github\n",
    "ramphs = pd.read_csv(\"https://raw.githubusercontent.com/sfsheath/roman-amphitheaters/master/roman-amphitheaters.csv\")\n",
    "\n",
    "chronogrps = pd.read_csv(\"https://raw.githubusercontent.com/sfsheath/roman-amphitheaters/master/chronogrps.csv\")\n",
    "\n",
    "# confirm that all is well by displaying first two rows\n",
    "print(ramphs.head(2))\n",
    "print(chronogrps.head(2))"
   ]
  },
  {
   "cell_type": "code",
   "execution_count": null,
   "metadata": {
    "collapsed": false
   },
   "outputs": [],
   "source": [
    "# The conn is a 'database connection'\n",
    "conn = sqlite3.connect(':memory:')\n",
    "print(type(conn))\n",
    "\n",
    "ramphs.to_sql('ramphs',conn,if_exists=\"replace\")\n",
    "chronogrps.to_sql('chronogrps', conn, if_exists=\"replace\")\n",
    "\n",
    "# pd.read_sql(\"\"\"PRAGMA table_info(ramphs)\"\"\",conn)\n",
    "# pd.read_sql(\"\"\"SELECT name FROM sqlite_master WHERE type='table'\"\"\",conn)"
   ]
  },
  {
   "cell_type": "code",
   "execution_count": null,
   "metadata": {
    "collapsed": false
   },
   "outputs": [],
   "source": [
    "# Use SELECT to list items from/query the ramphs table \n",
    "\n",
    "# https://www.sqlite.org/lang_select.html\n",
    "# https://www.tutorialspoint.com/sqlite/sqlite_select_query.htm\n",
    "\n",
    "pd.read_sql(\"\"\"SELECT id FROM ramphs\"\"\", conn)\n",
    "\n"
   ]
  },
  {
   "cell_type": "code",
   "execution_count": null,
   "metadata": {
    "collapsed": false
   },
   "outputs": [],
   "source": [
    "# LIMIT\n",
    "\n",
    "# WITH OFFSET\n"
   ]
  },
  {
   "cell_type": "code",
   "execution_count": null,
   "metadata": {
    "collapsed": true
   },
   "outputs": [],
   "source": [
    "# WHERE clause on one table"
   ]
  },
  {
   "cell_type": "code",
   "execution_count": null,
   "metadata": {
    "collapsed": true
   },
   "outputs": [],
   "source": [
    "# DISTINCT"
   ]
  },
  {
   "cell_type": "code",
   "execution_count": null,
   "metadata": {
    "collapsed": true
   },
   "outputs": [],
   "source": [
    "# ORDER BY"
   ]
  },
  {
   "cell_type": "code",
   "execution_count": null,
   "metadata": {
    "collapsed": true
   },
   "outputs": [],
   "source": [
    "# RELATIONAL JOINS"
   ]
  },
  {
   "cell_type": "code",
   "execution_count": null,
   "metadata": {
    "collapsed": true
   },
   "outputs": [],
   "source": [
    "# COMBINING THE ABOVE"
   ]
  },
  {
   "cell_type": "code",
   "execution_count": null,
   "metadata": {
    "collapsed": false
   },
   "outputs": [],
   "source": []
  },
  {
   "cell_type": "code",
   "execution_count": null,
   "metadata": {
    "collapsed": false
   },
   "outputs": [],
   "source": [
    "# LOADING PLEIADES\n",
    "pleiades = pd.read_csv(\"pleiades-places.csv\")\n",
    "pleiades.to_sql(\"pleiades\",conn, if_exists='replace')\n",
    "\n",
    "pd.read_sql(\"\"\"PRAGMA table_info(pleiades)\"\"\",conn)"
   ]
  },
  {
   "cell_type": "code",
   "execution_count": null,
   "metadata": {
    "collapsed": false
   },
   "outputs": [],
   "source": [
    "# How to determine what those columns are?"
   ]
  },
  {
   "cell_type": "code",
   "execution_count": null,
   "metadata": {
    "collapsed": false
   },
   "outputs": [],
   "source": [
    "# For each amphitheater with a Pleiades ID, list that ID's ancient name(s) and chronological information\n",
    "# First step... what are the steps?\n"
   ]
  },
  {
   "cell_type": "code",
   "execution_count": null,
   "metadata": {
    "collapsed": false
   },
   "outputs": [],
   "source": []
  }
 ],
 "metadata": {
  "kernelspec": {
   "display_name": "Python 3",
   "language": "python",
   "name": "python3"
  },
  "language_info": {
   "codemirror_mode": {
    "name": "ipython",
    "version": 3
   },
   "file_extension": ".py",
   "mimetype": "text/x-python",
   "name": "python",
   "nbconvert_exporter": "python",
   "pygments_lexer": "ipython3",
   "version": "3.5.2"
  }
 },
 "nbformat": 4,
 "nbformat_minor": 1
}
